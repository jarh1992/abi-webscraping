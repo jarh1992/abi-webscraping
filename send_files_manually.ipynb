{
 "cells": [
  {
   "metadata": {},
   "cell_type": "markdown",
   "source": "# Send files to Azure Blob Storage",
   "id": "f668237ff012b321"
  },
  {
   "metadata": {
    "ExecuteTime": {
     "end_time": "2024-10-22T17:27:59.972301Z",
     "start_time": "2024-10-22T17:26:15.311669Z"
    }
   },
   "cell_type": "code",
   "source": [
    "from datetime import datetime\n",
    "from src.utils import upload_blob_file\n",
    "from settings.settings import output_folder, sas_url, dest_hist_folder, dest_folder\n",
    "\n",
    "\n",
    "DT = datetime.now()\n",
    "\n",
    "\n",
    "for file in output_folder.glob('*.csv'):\n",
    "    # hist_file = file.parent / f'{file.stem}_{DT.strftime(\"%Y%m%d\")}{file.suffix}'\n",
    "    # rr = upload_blob_file(sas_url, dest_hist_folder, hist_file)\n",
    "    # print('hist', hist_file, rr)\n",
    "    rr = upload_blob_file(sas_url, dest_folder, file)\n",
    "    print('orig', file, rr)"
   ],
   "id": "d8b009a018cc9f39",
   "outputs": [
    {
     "name": "stdout",
     "output_type": "stream",
     "text": [
      "orig C:\\Users\\ASUS\\Desktop\\ABI\\abi-webscraping\\output\\carulla_products.csv 201\n",
      "orig C:\\Users\\ASUS\\Desktop\\ABI\\abi-webscraping\\output\\carulla_products_20241017.csv 201\n",
      "orig C:\\Users\\ASUS\\Desktop\\ABI\\abi-webscraping\\output\\carulla_products_20241018.csv 201\n",
      "orig C:\\Users\\ASUS\\Desktop\\ABI\\abi-webscraping\\output\\carulla_products_20241019.csv 201\n",
      "orig C:\\Users\\ASUS\\Desktop\\ABI\\abi-webscraping\\output\\carulla_products_20241020.csv 201\n",
      "orig C:\\Users\\ASUS\\Desktop\\ABI\\abi-webscraping\\output\\carulla_products_20241021.csv 201\n",
      "orig C:\\Users\\ASUS\\Desktop\\ABI\\abi-webscraping\\output\\exito_products.csv 201\n",
      "orig C:\\Users\\ASUS\\Desktop\\ABI\\abi-webscraping\\output\\exito_products_20241017.csv 201\n",
      "orig C:\\Users\\ASUS\\Desktop\\ABI\\abi-webscraping\\output\\exito_products_20241018.csv 201\n",
      "orig C:\\Users\\ASUS\\Desktop\\ABI\\abi-webscraping\\output\\exito_products_20241019.csv 201\n",
      "orig C:\\Users\\ASUS\\Desktop\\ABI\\abi-webscraping\\output\\exito_products_20241020.csv 201\n",
      "orig C:\\Users\\ASUS\\Desktop\\ABI\\abi-webscraping\\output\\exito_products_20241021.csv 201\n",
      "orig C:\\Users\\ASUS\\Desktop\\ABI\\abi-webscraping\\output\\jumbo_products.csv 201\n",
      "orig C:\\Users\\ASUS\\Desktop\\ABI\\abi-webscraping\\output\\jumbo_products_20241017.csv 201\n",
      "orig C:\\Users\\ASUS\\Desktop\\ABI\\abi-webscraping\\output\\jumbo_products_20241018.csv 201\n",
      "orig C:\\Users\\ASUS\\Desktop\\ABI\\abi-webscraping\\output\\jumbo_products_20241019.csv 201\n",
      "orig C:\\Users\\ASUS\\Desktop\\ABI\\abi-webscraping\\output\\jumbo_products_20241020.csv 201\n",
      "orig C:\\Users\\ASUS\\Desktop\\ABI\\abi-webscraping\\output\\jumbo_products_20241021.csv 201\n",
      "orig C:\\Users\\ASUS\\Desktop\\ABI\\abi-webscraping\\output\\makro_products.csv 201\n",
      "orig C:\\Users\\ASUS\\Desktop\\ABI\\abi-webscraping\\output\\makro_products_20241017.csv 201\n",
      "orig C:\\Users\\ASUS\\Desktop\\ABI\\abi-webscraping\\output\\makro_products_20241018.csv 201\n",
      "orig C:\\Users\\ASUS\\Desktop\\ABI\\abi-webscraping\\output\\makro_products_20241019.csv 201\n",
      "orig C:\\Users\\ASUS\\Desktop\\ABI\\abi-webscraping\\output\\makro_products_20241020.csv 201\n",
      "orig C:\\Users\\ASUS\\Desktop\\ABI\\abi-webscraping\\output\\makro_products_20241021.csv 201\n",
      "orig C:\\Users\\ASUS\\Desktop\\ABI\\abi-webscraping\\output\\metro_products.csv 201\n",
      "orig C:\\Users\\ASUS\\Desktop\\ABI\\abi-webscraping\\output\\metro_products_20241017.csv 201\n",
      "orig C:\\Users\\ASUS\\Desktop\\ABI\\abi-webscraping\\output\\metro_products_20241018.csv 201\n",
      "orig C:\\Users\\ASUS\\Desktop\\ABI\\abi-webscraping\\output\\metro_products_20241019.csv 201\n",
      "orig C:\\Users\\ASUS\\Desktop\\ABI\\abi-webscraping\\output\\metro_products_20241020.csv 201\n",
      "orig C:\\Users\\ASUS\\Desktop\\ABI\\abi-webscraping\\output\\metro_products_20241021.csv 201\n",
      "orig C:\\Users\\ASUS\\Desktop\\ABI\\abi-webscraping\\output\\olimpica_products.csv 201\n",
      "orig C:\\Users\\ASUS\\Desktop\\ABI\\abi-webscraping\\output\\olimpica_products_20241017.csv 201\n",
      "orig C:\\Users\\ASUS\\Desktop\\ABI\\abi-webscraping\\output\\olimpica_products_20241018.csv 201\n",
      "orig C:\\Users\\ASUS\\Desktop\\ABI\\abi-webscraping\\output\\olimpica_products_20241019.csv 201\n",
      "orig C:\\Users\\ASUS\\Desktop\\ABI\\abi-webscraping\\output\\olimpica_products_20241020.csv 201\n",
      "orig C:\\Users\\ASUS\\Desktop\\ABI\\abi-webscraping\\output\\olimpica_products_20241021.csv 201\n",
      "orig C:\\Users\\ASUS\\Desktop\\ABI\\abi-webscraping\\output\\rappi_products.csv 201\n",
      "orig C:\\Users\\ASUS\\Desktop\\ABI\\abi-webscraping\\output\\rappi_products_20241017.csv 201\n",
      "orig C:\\Users\\ASUS\\Desktop\\ABI\\abi-webscraping\\output\\rappi_products_20241018.csv 201\n",
      "orig C:\\Users\\ASUS\\Desktop\\ABI\\abi-webscraping\\output\\rappi_products_20241019.csv 201\n",
      "orig C:\\Users\\ASUS\\Desktop\\ABI\\abi-webscraping\\output\\rappi_products_20241020.csv 201\n",
      "orig C:\\Users\\ASUS\\Desktop\\ABI\\abi-webscraping\\output\\rappi_products_20241021.csv 201\n"
     ]
    }
   ],
   "execution_count": 3
  },
  {
   "metadata": {},
   "cell_type": "code",
   "outputs": [],
   "execution_count": null,
   "source": "",
   "id": "19c796d759dc83c3"
  }
 ],
 "metadata": {
  "kernelspec": {
   "display_name": "Python 3",
   "language": "python",
   "name": "python3"
  },
  "language_info": {
   "codemirror_mode": {
    "name": "ipython",
    "version": 2
   },
   "file_extension": ".py",
   "mimetype": "text/x-python",
   "name": "python",
   "nbconvert_exporter": "python",
   "pygments_lexer": "ipython2",
   "version": "2.7.6"
  }
 },
 "nbformat": 4,
 "nbformat_minor": 5
}
